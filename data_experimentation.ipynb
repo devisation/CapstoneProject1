{
 "cells": [
  {
   "cell_type": "code",
   "execution_count": 35,
   "metadata": {},
   "outputs": [],
   "source": [
    "import pandas as pd\n",
    "import numpy as np\n",
    "import matplotlib.pyplot as plt\n",
    "\n",
    "\n",
    "ad_data_raw = pd.read_csv('data/AdSmartABdata.csv')"
   ]
  },
  {
   "cell_type": "markdown",
   "metadata": {},
   "source": [
    "# Some analysis and data cleaning:"
   ]
  },
  {
   "cell_type": "code",
   "execution_count": 36,
   "metadata": {},
   "outputs": [
    {
     "name": "stdout",
     "output_type": "stream",
     "text": [
      "<class 'pandas.core.frame.DataFrame'>\n",
      "RangeIndex: 8077 entries, 0 to 8076\n",
      "Data columns (total 9 columns):\n",
      " #   Column       Non-Null Count  Dtype \n",
      "---  ------       --------------  ----- \n",
      " 0   auction_id   8077 non-null   object\n",
      " 1   experiment   8077 non-null   object\n",
      " 2   date         8077 non-null   object\n",
      " 3   hour         8077 non-null   int64 \n",
      " 4   device_make  8077 non-null   object\n",
      " 5   platform_os  8077 non-null   int64 \n",
      " 6   browser      8077 non-null   object\n",
      " 7   yes          8077 non-null   int64 \n",
      " 8   no           8077 non-null   int64 \n",
      "dtypes: int64(4), object(5)\n",
      "memory usage: 568.0+ KB\n"
     ]
    }
   ],
   "source": [
    "ad_data_raw.info()"
   ]
  },
  {
   "cell_type": "code",
   "execution_count": 37,
   "metadata": {},
   "outputs": [
    {
     "data": {
      "text/plain": [
       "0    6834\n",
       "1    1243\n",
       "dtype: int64"
      ]
     },
     "execution_count": 37,
     "metadata": {},
     "output_type": "execute_result"
    }
   ],
   "source": [
    "ad_data_raw[['yes','no']].sum(axis=1).value_counts()"
   ]
  },
  {
   "cell_type": "code",
   "execution_count": 38,
   "metadata": {},
   "outputs": [
    {
     "data": {
      "text/plain": [
       "0    6834\n",
       "1     671\n",
       "2     572\n",
       "Name: outcome, dtype: int64"
      ]
     },
     "execution_count": 38,
     "metadata": {},
     "output_type": "execute_result"
    }
   ],
   "source": [
    "dat = ad_data_raw.copy()\n",
    "def encode_outcome(row):\n",
    "    if row['yes']==1:\n",
    "        return 2\n",
    "    if row['no']==1:\n",
    "        return 1\n",
    "    else: return 0\n",
    "dat['outcome']=dat.apply(encode_outcome, axis=1)\n",
    "dat['outcome'].value_counts()"
   ]
  },
  {
   "cell_type": "code",
   "execution_count": 39,
   "metadata": {},
   "outputs": [
    {
     "data": {
      "text/html": [
       "<div>\n",
       "<style scoped>\n",
       "    .dataframe tbody tr th:only-of-type {\n",
       "        vertical-align: middle;\n",
       "    }\n",
       "\n",
       "    .dataframe tbody tr th {\n",
       "        vertical-align: top;\n",
       "    }\n",
       "\n",
       "    .dataframe thead th {\n",
       "        text-align: right;\n",
       "    }\n",
       "</style>\n",
       "<table border=\"1\" class=\"dataframe\">\n",
       "  <thead>\n",
       "    <tr style=\"text-align: right;\">\n",
       "      <th>outcome</th>\n",
       "      <th>0</th>\n",
       "      <th>1</th>\n",
       "      <th>2</th>\n",
       "    </tr>\n",
       "    <tr>\n",
       "      <th>experiment</th>\n",
       "      <th></th>\n",
       "      <th></th>\n",
       "      <th></th>\n",
       "    </tr>\n",
       "  </thead>\n",
       "  <tbody>\n",
       "    <tr>\n",
       "      <th>control</th>\n",
       "      <td>3485</td>\n",
       "      <td>322</td>\n",
       "      <td>264</td>\n",
       "    </tr>\n",
       "    <tr>\n",
       "      <th>exposed</th>\n",
       "      <td>3349</td>\n",
       "      <td>349</td>\n",
       "      <td>308</td>\n",
       "    </tr>\n",
       "  </tbody>\n",
       "</table>\n",
       "</div>"
      ],
      "text/plain": [
       "outcome        0    1    2\n",
       "experiment                \n",
       "control     3485  322  264\n",
       "exposed     3349  349  308"
      ]
     },
     "execution_count": 39,
     "metadata": {},
     "output_type": "execute_result"
    }
   ],
   "source": [
    "pd.crosstab(dat.experiment,dat.outcome)"
   ]
  },
  {
   "cell_type": "code",
   "execution_count": 40,
   "metadata": {},
   "outputs": [],
   "source": [
    "dat['dt'] = pd.DatetimeIndex(dat.date)+pd.to_timedelta(dat.hour, unit='h')"
   ]
  },
  {
   "cell_type": "code",
   "execution_count": 41,
   "metadata": {},
   "outputs": [],
   "source": [
    "smpl = dat.groupby('experiment').get_group('exposed')\n",
    "ctrl = dat.groupby('experiment').get_group('control')"
   ]
  },
  {
   "cell_type": "markdown",
   "metadata": {},
   "source": [
    "## Quick visualization over time:"
   ]
  },
  {
   "cell_type": "code",
   "execution_count": 42,
   "metadata": {},
   "outputs": [],
   "source": [
    "exp_start = min(pd.DatetimeIndex(dat.date.unique()))\n",
    "exp_end = max(pd.DatetimeIndex(dat.date.unique()))+pd.to_timedelta(1, unit='d')\n",
    "experiment_period = pd.date_range(start=exp_start, end=exp_end, freq='H')"
   ]
  },
  {
   "cell_type": "code",
   "execution_count": 43,
   "metadata": {},
   "outputs": [
    {
     "data": {
      "text/plain": [
       "<AxesSubplot:>"
      ]
     },
     "execution_count": 43,
     "metadata": {},
     "output_type": "execute_result"
    },
    {
     "data": {
      "image/png": "[encoded data removed]",
      "text/plain": [
       "<Figure size 432x288 with 1 Axes>"
      ]
     },
     "metadata": {
      "needs_background": "light"
     },
     "output_type": "display_data"
    }
   ],
   "source": [
    "timeseries = pd.DataFrame(index=pd.Series(experiment_period))\n",
    "# For ctrl\n",
    "timeseries['c_views'] = ctrl.dt.value_counts()\n",
    "timeseries[['c_y','c_n']] = ctrl.groupby('dt')[['yes','no']].sum()\n",
    "timeseries['c_click_ratio']=(timeseries.c_y+timeseries.c_n)/timeseries.c_views\n",
    "# For smpl\n",
    "timeseries['s_views'] = smpl.dt.value_counts()\n",
    "timeseries[['s_y','s_n']] = smpl.groupby('dt')[['yes','no']].sum()\n",
    "timeseries['s_click_ratio']=(timeseries.s_y+timeseries.s_n)/timeseries.s_views\n",
    "# click ratio is ratio of clicks to number of auctions in that hour\n",
    "timeseries[['c_click_ratio','s_click_ratio']].plot()"
   ]
  },
  {
   "cell_type": "markdown",
   "metadata": {},
   "source": [
    "# Focusing on those who clicked a button:"
   ]
  },
  {
   "cell_type": "code",
   "execution_count": 44,
   "metadata": {},
   "outputs": [],
   "source": [
    "exposed = smpl[smpl.outcome!=0].drop(['no','outcome'], axis = 1)\n",
    "control = ctrl[ctrl.outcome!=0].drop(['no','outcome'], axis = 1)\n",
    "data = dat[dat.outcome!=0].drop(['no','outcome'], axis = 1)"
   ]
  },
  {
   "cell_type": "code",
   "execution_count": 45,
   "metadata": {},
   "outputs": [
    {
     "data": {
      "text/plain": [
       "(0.4687975646879756, 0.45051194539249145, 0.018285619295484168)"
      ]
     },
     "execution_count": 45,
     "metadata": {},
     "output_type": "execute_result"
    }
   ],
   "source": [
    "# Calculate conversion rates\n",
    "mu_exp, mu_con = exposed.yes.mean(), control.yes.mean()\n",
    "delta_mu = mu_exp - mu_con\n",
    "mu_exp, mu_con, delta_mu"
   ]
  },
  {
   "cell_type": "code",
   "execution_count": 47,
   "metadata": {},
   "outputs": [
    {
     "data": {
      "text/plain": [
       "(656, 585)"
      ]
     },
     "execution_count": 47,
     "metadata": {},
     "output_type": "execute_result"
    }
   ],
   "source": [
    "dof_exp, dof_con = exposed.shape[0]-1, control.shape[0]-1\n",
    "dof_exp, dof_con"
   ]
  },
  {
   "cell_type": "markdown",
   "metadata": {},
   "source": [
    "## Some Histograms"
   ]
  },
  {
   "cell_type": "code",
   "execution_count": 48,
   "metadata": {},
   "outputs": [
    {
     "data": {
      "image/png": "[encoded data removed]",
      "text/plain": [
       "<Figure size 864x720 with 2 Axes>"
      ]
     },
     "metadata": {
      "needs_background": "light"
     },
     "output_type": "display_data"
    }
   ],
   "source": [
    "fig = plt.figure(figsize=(12,10))\n",
    "ax1 = fig.add_subplot(211, xlim=[exp_start, exp_end], xlabel='Hour', ylabel='Clicks', title='Control')\n",
    "ax2 = fig.add_subplot(212, xlim=[exp_start, exp_end], xlabel='Hour', ylabel='Clicks', title='Exposed')\n",
    "ax1.hist(control.dt, bins=24*8)\n",
    "ax2.hist(exposed.dt, bins=24*8)\n",
    "plt.show()"
   ]
  },
  {
   "cell_type": "code",
   "execution_count": 49,
   "metadata": {},
   "outputs": [
    {
     "data": {
      "image/png": "[encoded data removed]",
      "text/plain": [
       "<Figure size 864x720 with 2 Axes>"
      ]
     },
     "metadata": {
      "needs_background": "light"
     },
     "output_type": "display_data"
    }
   ],
   "source": [
    "fig = plt.figure(figsize=(12,10))\n",
    "ax1 = fig.add_subplot(211, xlabel='Hour', ylabel='Clicks', title='Control')\n",
    "ax2 = fig.add_subplot(212, xlabel='Hour', ylabel='Clicks', title='Exposed')\n",
    "ax1.hist([control[control.yes==0].hour, \n",
    "          control[control.yes==1].hour], \n",
    "          bins=24,\n",
    "          label=['clicked no', 'clicked yes'])\n",
    "ax2.hist([exposed[exposed.yes==0].hour, \n",
    "          exposed[exposed.yes==1].hour], \n",
    "          bins=24,\n",
    "          label=['clicked no', 'clicked yes'])\n",
    "ax1.legend(loc='upper left')\n",
    "ax2.legend(loc='upper left')\n",
    "plt.show()"
   ]
  },
  {
   "cell_type": "markdown",
   "metadata": {},
   "source": [
    "## Now testing what changes when the outlier day (7/3) is excluded from the data:"
   ]
  },
  {
   "cell_type": "code",
   "execution_count": 50,
   "metadata": {},
   "outputs": [],
   "source": [
    "control2 = control[np.array([t.day for t in control.dt]) >= 4]\n",
    "exposed2 = exposed[np.array([t.day for t in exposed.dt]) >= 4]\n",
    "data2 = data[np.array([t.day for t in data.dt]) >= 4]"
   ]
  },
  {
   "cell_type": "code",
   "execution_count": 51,
   "metadata": {},
   "outputs": [
    {
     "data": {
      "text/html": [
       "<div>\n",
       "<style scoped>\n",
       "    .dataframe tbody tr th:only-of-type {\n",
       "        vertical-align: middle;\n",
       "    }\n",
       "\n",
       "    .dataframe tbody tr th {\n",
       "        vertical-align: top;\n",
       "    }\n",
       "\n",
       "    .dataframe thead th {\n",
       "        text-align: right;\n",
       "    }\n",
       "</style>\n",
       "<table border=\"1\" class=\"dataframe\">\n",
       "  <thead>\n",
       "    <tr style=\"text-align: right;\">\n",
       "      <th>outcome</th>\n",
       "      <th>0</th>\n",
       "      <th>1</th>\n",
       "      <th>2</th>\n",
       "    </tr>\n",
       "    <tr>\n",
       "      <th>experiment</th>\n",
       "      <th></th>\n",
       "      <th></th>\n",
       "      <th></th>\n",
       "    </tr>\n",
       "  </thead>\n",
       "  <tbody>\n",
       "    <tr>\n",
       "      <th>control</th>\n",
       "      <td>2173</td>\n",
       "      <td>193</td>\n",
       "      <td>160</td>\n",
       "    </tr>\n",
       "    <tr>\n",
       "      <th>exposed</th>\n",
       "      <td>2971</td>\n",
       "      <td>300</td>\n",
       "      <td>265</td>\n",
       "    </tr>\n",
       "  </tbody>\n",
       "</table>\n",
       "</div>"
      ],
      "text/plain": [
       "outcome        0    1    2\n",
       "experiment                \n",
       "control     2173  193  160\n",
       "exposed     2971  300  265"
      ]
     },
     "execution_count": 51,
     "metadata": {},
     "output_type": "execute_result"
    }
   ],
   "source": [
    "dat2 = dat[np.array([t.day for t in dat.dt]) >= 4]\n",
    "pd.crosstab(dat2.experiment,dat2.outcome)"
   ]
  },
  {
   "cell_type": "code",
   "execution_count": 52,
   "metadata": {},
   "outputs": [
    {
     "data": {
      "image/png": "[encoded data removed]",
      "text/plain": [
       "<Figure size 864x720 with 2 Axes>"
      ]
     },
     "metadata": {
      "needs_background": "light"
     },
     "output_type": "display_data"
    }
   ],
   "source": [
    "fig = plt.figure(figsize=(12,10))\n",
    "ax1 = fig.add_subplot(211, xlabel='Hour', ylabel='Clicks', title='Control')\n",
    "ax2 = fig.add_subplot(212, xlabel='Hour', ylabel='Clicks', title='Exposed')\n",
    "ax1.hist(control2.dt, bins=24*7)\n",
    "ax2.hist(exposed2.dt, bins=24*7)\n",
    "plt.show()"
   ]
  },
  {
   "cell_type": "code",
   "execution_count": 53,
   "metadata": {},
   "outputs": [
    {
     "data": {
      "image/png": "[encoded data removed]",
      "text/plain": [
       "<Figure size 864x720 with 2 Axes>"
      ]
     },
     "metadata": {
      "needs_background": "light"
     },
     "output_type": "display_data"
    }
   ],
   "source": [
    "fig = plt.figure(figsize=(12,10))\n",
    "ax1 = fig.add_subplot(211, xlabel='Hour', ylabel='Clicks', title='Control')\n",
    "ax2 = fig.add_subplot(212, xlabel='Hour', ylabel='Clicks', title='Exposed')\n",
    "\n",
    "ax1.hist([control2[control2.yes==0].hour, \n",
    "          control2[control2.yes==1].hour], \n",
    "          bins=24,\n",
    "          label=['clicked no', 'clicked yes'])\n",
    "ax2.hist([exposed2[exposed2.yes==0].hour, \n",
    "          exposed2[exposed2.yes==1].hour], \n",
    "          bins=24,\n",
    "          label=['clicked no', 'clicked yes'])\n",
    "ax1.legend(loc='upper left')\n",
    "ax2.legend(loc='upper left')\n",
    "plt.show()"
   ]
  },
  {
   "cell_type": "markdown",
   "metadata": {},
   "source": [
    "The data seems to have gotten more reasonable-looking"
   ]
  },
  {
   "cell_type": "markdown",
   "metadata": {},
   "source": [
    "### Now to see how some statistical values changed after excluding outliers"
   ]
  },
  {
   "cell_type": "code",
   "execution_count": 54,
   "metadata": {},
   "outputs": [
    {
     "data": {
      "text/plain": [
       "(0.4690265486725664, 0.45325779036827196, 0.015768758304294417)"
      ]
     },
     "execution_count": 54,
     "metadata": {},
     "output_type": "execute_result"
    }
   ],
   "source": [
    "# Realculate conversion rates\n",
    "mu_exp, mu_con = exposed2.yes.mean(), control2.yes.mean()\n",
    "delta_mu2 = mu_exp - mu_con\n",
    "mu_exp, mu_con, delta_mu2"
   ]
  },
  {
   "cell_type": "code",
   "execution_count": 55,
   "metadata": {},
   "outputs": [
    {
     "data": {
      "text/plain": [
       "(564, 352)"
      ]
     },
     "execution_count": 55,
     "metadata": {},
     "output_type": "execute_result"
    }
   ],
   "source": [
    "dof_exp, dof_con = exposed2.shape[0]-1, control2.shape[0]-1\n",
    "dof_exp, dof_con"
   ]
  },
  {
   "cell_type": "markdown",
   "metadata": {},
   "source": [
    "## Analyzing other categorical variables:"
   ]
  },
  {
   "cell_type": "code",
   "execution_count": 56,
   "metadata": {},
   "outputs": [
    {
     "data": {
      "text/plain": [
       "Index(['auction_id', 'experiment', 'date', 'hour', 'device_make',\n",
       "       'platform_os', 'browser', 'yes', 'dt'],\n",
       "      dtype='object')"
      ]
     },
     "execution_count": 56,
     "metadata": {},
     "output_type": "execute_result"
    }
   ],
   "source": [
    "data.columns"
   ]
  },
  {
   "cell_type": "code",
   "execution_count": 57,
   "metadata": {},
   "outputs": [
    {
     "data": {
      "text/plain": [
       "(115, 2, 8)"
      ]
     },
     "execution_count": 57,
     "metadata": {},
     "output_type": "execute_result"
    }
   ],
   "source": [
    "all_devices = data.device_make.unique()\n",
    "all_platforms = data.platform_os.unique()\n",
    "all_browsers = data.browser.unique()\n",
    "len(all_devices), len(all_platforms), len(all_browsers)"
   ]
  },
  {
   "cell_type": "code",
   "execution_count": 58,
   "metadata": {},
   "outputs": [],
   "source": [
    "def get_common_categ_vals(df, categorical_var, threshold=0.01):\n",
    "    var_col = df.loc[:,categorical_var]\n",
    "    composition = var_col.value_counts()/len(var_col)\n",
    "    return composition[composition>=threshold]"
   ]
  },
  {
   "cell_type": "code",
   "execution_count": 59,
   "metadata": {},
   "outputs": [
    {
     "name": "stdout",
     "output_type": "stream",
     "text": [
      "all: 73.6122% of devices are in the top 10 most common devices\n",
      "control: 80.5461% of devices are in the top 16 most common devices\n",
      "control2: 81.0198% of devices are in the top 15 most common devices\n",
      "exposed: 73.2116% of devices are in the top 7 most common devices\n",
      "exposed2: 73.8053% of devices are in the top 7 most common devices\n"
     ]
    }
   ],
   "source": [
    "for i,df in enumerate([data, control, control2, exposed, exposed2]):\n",
    "    dfname = ['all', 'control', 'control2', 'exposed', 'exposed2'][i]\n",
    "    vals = get_common_categ_vals(df, 'device_make')\n",
    "    msg = f'{dfname}: {vals.sum()*100:.4f}% of devices are in the top {len(vals.index)} most common devices'\n",
    "    print(msg)\n",
    "# it seems the control is skewed towards more common devices"
   ]
  },
  {
   "cell_type": "code",
   "execution_count": 60,
   "metadata": {},
   "outputs": [],
   "source": [
    "control3 = control2[np.isin(control2.device_make, get_common_categ_vals(data, 'device_make').index)]\n",
    "exposed3 = exposed2[np.isin(exposed2.device_make, get_common_categ_vals(data, 'device_make').index)]"
   ]
  },
  {
   "cell_type": "code",
   "execution_count": 61,
   "metadata": {},
   "outputs": [
    {
     "data": {
      "text/html": [
       "<div>\n",
       "<style scoped>\n",
       "    .dataframe tbody tr th:only-of-type {\n",
       "        vertical-align: middle;\n",
       "    }\n",
       "\n",
       "    .dataframe tbody tr th {\n",
       "        vertical-align: top;\n",
       "    }\n",
       "\n",
       "    .dataframe thead th {\n",
       "        text-align: right;\n",
       "    }\n",
       "</style>\n",
       "<table border=\"1\" class=\"dataframe\">\n",
       "  <thead>\n",
       "    <tr style=\"text-align: right;\">\n",
       "      <th>outcome</th>\n",
       "      <th>0</th>\n",
       "      <th>1</th>\n",
       "      <th>2</th>\n",
       "    </tr>\n",
       "    <tr>\n",
       "      <th>experiment</th>\n",
       "      <th></th>\n",
       "      <th></th>\n",
       "      <th></th>\n",
       "    </tr>\n",
       "  </thead>\n",
       "  <tbody>\n",
       "    <tr>\n",
       "      <th>control</th>\n",
       "      <td>1730</td>\n",
       "      <td>138</td>\n",
       "      <td>119</td>\n",
       "    </tr>\n",
       "    <tr>\n",
       "      <th>exposed</th>\n",
       "      <td>2132</td>\n",
       "      <td>221</td>\n",
       "      <td>192</td>\n",
       "    </tr>\n",
       "  </tbody>\n",
       "</table>\n",
       "</div>"
      ],
      "text/plain": [
       "outcome        0    1    2\n",
       "experiment                \n",
       "control     1730  138  119\n",
       "exposed     2132  221  192"
      ]
     },
     "execution_count": 61,
     "metadata": {},
     "output_type": "execute_result"
    }
   ],
   "source": [
    "dat3 = dat2[np.isin(dat2.device_make, get_common_categ_vals(dat2, 'device_make').index)]\n",
    "pd.crosstab(dat3.experiment,dat3.outcome)"
   ]
  },
  {
   "cell_type": "code",
   "execution_count": 62,
   "metadata": {},
   "outputs": [
    {
     "data": {
      "text/plain": [
       "(0.4628297362110312, 0.46946564885496184, -0.006635912643930653)"
      ]
     },
     "execution_count": 62,
     "metadata": {},
     "output_type": "execute_result"
    }
   ],
   "source": [
    "# Realculate conversion rates\n",
    "mu_exp, mu_con = exposed3.yes.mean(), control3.yes.mean()\n",
    "delta_mu3 = mu_exp - mu_con\n",
    "mu_exp, mu_con, delta_mu3"
   ]
  },
  {
   "cell_type": "markdown",
   "metadata": {},
   "source": [
    "## Hypothesis testing"
   ]
  },
  {
   "cell_type": "markdown",
   "metadata": {},
   "source": [
    "$$\n",
    "  \\begin{cases}\n",
    "    H_0:& \\mu_{con}=\\mu_{exp}\\\\\n",
    "    H_1: &\\mu_{con}< \\mu_{exp}\n",
    "\\end{cases}\n",
    "$$"
   ]
  },
  {
   "cell_type": "markdown",
   "metadata": {},
   "source": [
    "$$\\text{Where } \\mu_{\\text{grp}} \\text{ is the conversion ratio: } \\\\\n",
    "\\text{the mean number of 'yes' clicks out of all clicks from group grp} $$"
   ]
  },
  {
   "cell_type": "markdown",
   "metadata": {},
   "source": [
    "$$\\text{Let our alpha level be } \\alpha=0.05$$"
   ]
  },
  {
   "cell_type": "code",
   "execution_count": 63,
   "metadata": {},
   "outputs": [],
   "source": [
    "alpha = 0.05"
   ]
  },
  {
   "cell_type": "markdown",
   "metadata": {},
   "source": [
    "Now we test for independence of the control and exposed distributions"
   ]
  },
  {
   "cell_type": "code",
   "execution_count": 64,
   "metadata": {},
   "outputs": [],
   "source": [
    "import scipy.stats as st"
   ]
  },
  {
   "cell_type": "code",
   "execution_count": 65,
   "metadata": {},
   "outputs": [
    {
     "data": {
      "text/plain": [
       "(-0.6453749449008881, 0.2594025104294552)"
      ]
     },
     "execution_count": 65,
     "metadata": {},
     "output_type": "execute_result"
    }
   ],
   "source": [
    "t, p = st.ttest_ind(control.yes, exposed.yes, alternative='less', equal_var=False)\n",
    "t, p"
   ]
  },
  {
   "cell_type": "code",
   "execution_count": 66,
   "metadata": {},
   "outputs": [
    {
     "data": {
      "text/plain": [
       "(-0.4658911349314305, 0.32071450082806574)"
      ]
     },
     "execution_count": 66,
     "metadata": {},
     "output_type": "execute_result"
    }
   ],
   "source": [
    "t, p = st.ttest_ind(control2.yes, exposed2.yes, alternative='less', equal_var=False)\n",
    "t, p"
   ]
  },
  {
   "cell_type": "code",
   "execution_count": 67,
   "metadata": {},
   "outputs": [
    {
     "data": {
      "text/plain": [
       "(0.1684479164966182, 0.5668538012390318)"
      ]
     },
     "execution_count": 67,
     "metadata": {},
     "output_type": "execute_result"
    }
   ],
   "source": [
    "t, p = st.ttest_ind(control3.yes, exposed3.yes, alternative='less', equal_var=False)\n",
    "t, p"
   ]
  },
  {
   "cell_type": "markdown",
   "metadata": {},
   "source": [
    "None of the iterations of my control and exposed pairs return a p value below my alpha value of 0.05, and thus we fail to reject the null hypothesis. \n",
    "\n",
    "So even though the conversion rate for the first two exposed groups are higher than for the corresponding control groups, the difference is not statistically significant, and therefore we cannot conclude that the company is justified in using the new ad."
   ]
  }
 ],
 "metadata": {
  "kernelspec": {
   "display_name": "Python 3.9.12 ('datsci')",
   "language": "python",
   "name": "python3"
  },
  "language_info": {
   "codemirror_mode": {
    "name": "ipython",
    "version": 3
   },
   "file_extension": ".py",
   "mimetype": "text/x-python",
   "name": "python",
   "nbconvert_exporter": "python",
   "pygments_lexer": "ipython3",
   "version": "3.9.12"
  },
  "orig_nbformat": 4,
  "vscode": {
   "interpreter": {
    "hash": "ff6bbc059f09f5d67763002880d565854665e18376ee4b40865bcf6ed65b96b4"
   }
  }
 },
 "nbformat": 4,
 "nbformat_minor": 2
}
